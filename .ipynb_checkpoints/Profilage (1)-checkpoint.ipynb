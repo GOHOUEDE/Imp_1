{
 "cells": [
  {
   "cell_type": "markdown",
   "id": "f25ddebb",
   "metadata": {},
   "source": [
    "# Description du travail à faire "
   ]
  },
  {
   "cell_type": "raw",
   "id": "0abfd711",
   "metadata": {},
   "source": [
    "Le but de ce travail est de pouvoir segmenter un groupes de personnes sur la base de données existantes. Notre travail devra permettre à bft group d'avoir un profil client des utilisateurs actuels de leurs produits actuels que sont l'épargne digital et le crédit digital. Cette première phase de notre travail sera la première étape vers l'objectif final qui est la mise en place d'un outil automatisé de recommandation de produites et services financiers adaptés aux clients de bft group."
   ]
  },
  {
   "cell_type": "markdown",
   "id": "896586c7",
   "metadata": {},
   "source": [
    "# Description du jeu de données"
   ]
  },
  {
   "cell_type": "raw",
   "id": "1647798a",
   "metadata": {},
   "source": [
    "Le jeu de données utilisé ici est un ensemble de données recueillies sur les clients de bft group. Ces renseignements ont été recueillies dans 67 agences de rattachement de bft group. Ce jeu de données contient des informations sur 5038 clients avec 27 variables qui sont les suivants:\n",
    "- ID Client\n",
    "- Date de création du compte bancaire\n",
    "- Agence de rattachement\n",
    "- Nombre d'années passées à l'addresse fournie\n",
    "- Sexe\n",
    "- Age\n",
    "- Situation professionelle\n",
    "- Occupation/ Profession\n",
    "- Type de compte ouvert\n",
    "- Nombre de mois de cotisation \n",
    "- Nombres de plans cotisés                               \n",
    "- Nombre de plans cotisés à terme                         \n",
    "- Montant de l'épargne cotisé                             \n",
    "- Nombre de transactions enregistrées                    \n",
    "- Nombre de crédits demandés                            \n",
    "- Montant de crédits demandés                         \n",
    "- Secteur d'activité économique du crédit demandé        \n",
    "- Sous Secteur d'activité économique du crédit demandé   \n",
    "- Nombres de crédit octroyés                              \n",
    "- Montant de crédit accordé                               \n",
    "- Durée moyenne de remboursement                          \n",
    "- Nombre de crédits octroyés                              \n",
    "- Nombre de crédit remboursés                             \n",
    "- Cotisation au RPC                                     \n",
    "- Cautionnement signé                                    \n",
    "- Revenus du Garant                                     \n",
    "- Emprunt en cours (dispose t il d'emprunts en cours)\n",
    "\n",
    "Ces données ont été recueillies entre 2021 et 2023."
   ]
  },
  {
   "cell_type": "markdown",
   "id": "31850985",
   "metadata": {},
   "source": [
    "# Résumé du travail effectué"
   ]
  },
  {
   "cell_type": "raw",
   "id": "0eb4fc4b",
   "metadata": {},
   "source": [
    "Le travail est divisé en 3 grandes parties:\n",
    "    1- Analyse exploratoire\n",
    "            Il s'agira ici de charger le jeu de données, de le visualiser, tracer des histogrammes et éventuellement une matrice de corrélation.\n",
    "    2- Modélisation\n",
    "       Cette étape consiste à sélectionner les variables qui seront utilises à l'apprentisage et à supprimer celles qui ne serviront pas. on traitera ensuite les données manquantes au cas où il y en aurait. Enfin, normaliser et constituer les ensembles de données d'apprentissage et de test.\n",
    "    3- Entrainement et évaluation des modèles\n",
    "      Cette partie sera consacrée à l'implémentation et l'entrainement des modèles. Les modèles seront évalués sur des métriques.\n",
    "    4- Sélection des modèles les plus performants\n",
    "      Sur la base des performances des différents modèles sur le jeu test, nous procéderons à une sélection du meilleur modèle et à une recherche des hyperparamètres optimaux pour ce modèle.\n",
    "     \n",
    "     \n",
    "    "
   ]
  },
  {
   "cell_type": "markdown",
   "id": "b4e37cff",
   "metadata": {},
   "source": [
    "# Importation des librairies"
   ]
  },
  {
   "cell_type": "code",
   "execution_count": 1,
   "id": "c80efe97",
   "metadata": {},
   "outputs": [],
   "source": [
    "import numpy as np\n",
    "import pandas as pd\n",
    "import seaborn as sns\n",
    "sns.set()\n",
    "import matplotlib.pyplot as plt\n",
    "import plotly.express as px\n",
    "from sklearn.preprocessing import LabelEncoder\n",
    "from sklearn.model_selection import train_test_split\n",
    "from sklearn.metrics import f1_score, accuracy_score, classification_report, confusion_matrix\n",
    "import warnings\n",
    "warnings.filterwarnings('ignore')"
   ]
  },
  {
   "cell_type": "markdown",
   "id": "1aeb688a",
   "metadata": {},
   "source": [
    "# Analyse Exploratoire du dataset"
   ]
  },
  {
   "cell_type": "raw",
   "id": "044d46d7",
   "metadata": {},
   "source": [
    "Après avoir chargé le jeu de données ici pour le transformer en dataframe,nous avons affiché ses 5 premières lignes à l'aide de la méthode '.head()' .Cela permet d'avoir un aperçu des données pour vérifier leur structure et les premières entrées."
   ]
  },
  {
   "cell_type": "code",
   "execution_count": 3,
   "id": "91c16cd3",
   "metadata": {},
   "outputs": [
    {
     "ename": "SyntaxError",
     "evalue": "EOL while scanning string literal (2793102233.py, line 1)",
     "output_type": "error",
     "traceback": [
      "\u001b[1;36m  File \u001b[1;32m\"C:\\Users\\HOME\\AppData\\Local\\Temp\\ipykernel_20024\\2793102233.py\"\u001b[1;36m, line \u001b[1;32m1\u001b[0m\n\u001b[1;33m    df = pd.read_excel(data_trnqfinal.csv')\u001b[0m\n\u001b[1;37m                                           ^\u001b[0m\n\u001b[1;31mSyntaxError\u001b[0m\u001b[1;31m:\u001b[0m EOL while scanning string literal\n"
     ]
    }
   ],
   "source": [
    "df = pd.read_excel('data_trnqfinal.csv')\n",
    "df.head()"
   ]
  },
  {
   "cell_type": "raw",
   "id": "5c37069b",
   "metadata": {},
   "source": [
    "Nous avons écrit ce code pour remplacer les valeurs manquantes de la colonne 'Age' par NaN."
   ]
  },
  {
   "cell_type": "code",
   "execution_count": null,
   "id": "3e772d82",
   "metadata": {},
   "outputs": [],
   "source": [
    "for i in range (len(df)):\n",
    "    if df.iloc[i, 5] <= 16:\n",
    "        df.iloc[i, 5] = np.nan\n",
    "        "
   ]
  },
  {
   "cell_type": "raw",
   "id": "997053c1",
   "metadata": {},
   "source": [
    "La ligne de code suivante quant à elle nous permet de générer un résumé statistique de notre dataframe en incluent toutes les colonnes y compris celles qui contiennent des valeurs non numériques.\n",
    "Elle nous a permis dans un premier temps de localiser des valeurs abberantes grâce au min, max obtenus pour certaines variables."
   ]
  },
  {
   "cell_type": "code",
   "execution_count": null,
   "id": "fb1df48b",
   "metadata": {},
   "outputs": [],
   "source": [
    "df.describe(include = \"all\")"
   ]
  },
  {
   "cell_type": "raw",
   "id": "fc5e87cf",
   "metadata": {},
   "source": [
    "La méthode .info() nous permet d'avoir des renseignements sur le type de chaque variable afin de savoir quel traitement y appliquer plus tard.\n",
    "Nous avons donc mis en évidence ici qu'il y a deux types de variables: numériques et catégorielles."
   ]
  },
  {
   "cell_type": "code",
   "execution_count": null,
   "id": "03ab9561",
   "metadata": {},
   "outputs": [],
   "source": [
    "df.info()"
   ]
  },
  {
   "cell_type": "raw",
   "id": "2755d2da",
   "metadata": {},
   "source": [
    "Nous avons divisé les colonnes de notre dataframe en deux listes, l'une contenant les noms de variables catégorielles et l'autre celles des variables numériques."
   ]
  },
  {
   "cell_type": "code",
   "execution_count": null,
   "id": "34d66b81",
   "metadata": {},
   "outputs": [],
   "source": [
    "numeric_features = list(df.select_dtypes(\"float64\").columns)\n",
    "categorical_features = list(df.select_dtypes(\"object\").columns)\n",
    "\n",
    "print(f'Variables numériques :\\n{numeric_features}\\n\\nVariables catégorielles:\\n{categorical_features}')"
   ]
  },
  {
   "cell_type": "raw",
   "id": "f2f7c075",
   "metadata": {},
   "source": [
    "Les listes obtenues précédemment ont été enregistrées dans de nouvelles variables afin d'être utilisées pour le tracé des histogrammes."
   ]
  },
  {
   "cell_type": "code",
   "execution_count": null,
   "id": "4ca94487",
   "metadata": {},
   "outputs": [],
   "source": [
    "Variables_numériques = ['Nombres de mois de cotisation', 'Nombres de plans cotisés', 'Nombre de plans cotisés à terme', \"Montant de l'épargne cotisé\", 'Nombre de transactions enregistrées', 'Nombre de crédits demandés', 'Nombres de crédit octroyés', 'Montant de crédit accordé', 'Durée moyenne de remboursement', 'Nombre de crédits octroyés', 'Nombre de crédit remboursés', \"Emprunt en cours (dispose t il d'emprunts en cours)\", \"Nombres d'années passées à cette addresse \", 'Age', 'Montant de crédits demandés', 'Cotisation au RPC', 'Revenus du Garant']\n",
    "Variables_catégorielles = ['ID Client', 'Date de création', 'Agence de rattachement', 'Sexe ', 'Situation Matrimoniale', 'Occupation/profession', 'Type de compte', \"Secteur d'activité économique du crédit demandé\", \"Sous Secteur d'activité économique du crédit demandé\", 'Cautionnement signé']"
   ]
  },
  {
   "cell_type": "markdown",
   "id": "d52bdae8",
   "metadata": {},
   "source": [
    "# Histogramme des variables numériques\n"
   ]
  },
  {
   "cell_type": "raw",
   "id": "b809ecb6",
   "metadata": {},
   "source": [
    "Le code suivant utilise une boucle for pour parcourir la liste contenant les variables numériques pour en tracer ensuite l'histogramme."
   ]
  },
  {
   "cell_type": "code",
   "execution_count": null,
   "id": "d55a8ad6",
   "metadata": {},
   "outputs": [],
   "source": [
    "for feature in Variables_numériques:\n",
    "    sns.histplot(df[feature])\n",
    "    plt.xticks(rotation=90)\n",
    "    plt.xlabel(feature)\n",
    "    plt.ylabel('Frequency')\n",
    "    plt.title(f'Histogram of {feature}')\n",
    "    plt.show()"
   ]
  },
  {
   "cell_type": "markdown",
   "id": "196ad1ba",
   "metadata": {},
   "source": [
    "# Tracé des diagrammes en barre des variables catégorielles"
   ]
  },
  {
   "cell_type": "raw",
   "id": "917e9ae0",
   "metadata": {},
   "source": [
    "Ici nous avons été confronté à la présence d'une multitude de professions non catégorisés dans la colonne 'Occupation/Profession' ce qui rendait difficile le tracé des diagrammes en barre. Pour y remédier, nous avons procédé à une segmentation des professions en 10 catégories détaillées comme suit:\n",
    "- Commerce : sont regroupés ici tous ceux qui mennent une activité de vente de produits.\n",
    "- Administration : sont regroupés ici ceux qui travaillent dans un service privé, publique ou dans une administration quelconque.\n",
    "- Beauté : ceux qui se retrouvent dans ce groupe effectuent une activité dans le domaine des soins du corps et la fabrication d'articles et accessoires de beauté.\n",
    "- Couture : regroupe tous ceux qui travaillent dans le domaine de l'habillement et la vente de produits servent à la confection d'habits.\n",
    "- Restauration : tous ceux qui contribuent exclusivement à la restauration, qui en font exclusivement et qui vendent de la  nourriture.\n",
    "- Tech-réparation : regroupe les individus qui utilisent la technologie pour offrir des servoces à la population et les      réparateurs des machines utilisés dans la vie quotidienne.\n",
    "- Artisan : Il regroupe les artisans\n",
    "- Téléphonie-mobile : regroupe les individus offrant exclusivement les services de téléphonie-mobile\n",
    "- Autres : individus ne pouvant être classés dans aucune des classes précédentes."
   ]
  },
  {
   "cell_type": "code",
   "execution_count": null,
   "id": "c99ca8c0",
   "metadata": {},
   "outputs": [],
   "source": [
    "#segmentation profession\n",
    "commerce_keywords = ['provenderie','commrce','charbon','water','operateur','commet','commet','comercant','bacterie','reven','revendeise','ustancine','commee','commmerce','commer','commen','financi','commmercant','revndeuse','alimentation ','caommercant','compercante','commmmerce','quincailleri','quincailerie','porter','stok','quincallerie','fabrication','fabrication','eau','productrice','commere','transformatrice','transformateur','transformation','recendeur','commercr','produits','revenduse','revendruse','poissonerie','commercilisation','vendeur','commercialisation','achat','quincaillerie','commerce','poissonnerie','commerce','revendeuse','revendeur', 'commer\\u00e7ante', 'commer\\u00e7ant', 'marchande','commetce', 'commerciale', 'commercant', 'marchand', 'commercante', 'divers', 'commercial', 'commercialisation', 'commer\\u00c7ant', 'revendeurs', 'revente', 'vendeuse', 'commence', 'comerce', 'revendeur','boutique','poisonnerie', 'commer\\u00e7ants', 'revendeusr', 'commer\\u00e7antes', 'condiments', 'cmmerce', 'commer\\u00e7ant', 'pi\\u00e8ces d\\u00e9tach\\u00e9es', 'commer\\u00e7ant', 'gros', 'détail','gaz','divers', 'fruit', 'fruits', 'vente','commer\\u00e7ant','commer\\u00e7ant']\n",
    "administration_keywords = ['rant','forestier','rinaire','gb','racoleur','cnsr','receveur','direction','garde','militaire','infirmi','service','prestation','prive','delegue','pharmacien','dg','financier','hoteliere','professeur','clinique','comptable','juriste','veterinaire','chef','echographiste','gestionnaire','immobilier','administration','privee','agent', 'douane','enseignant']\n",
    "couture_keywords = ['coituri','couturi','broteur','coututier','brodeur','styliste','couturi\\u00e8re', 'couturiere', 'couture', 'tailleur', 'mercerie', 'couturier', 'couturi\\u00e8re']\n",
    "beauté_keywords = ['cosm','estheticienne','estheticienne','bijoutier','beauté','coiffeuse', 'coiffure','coiffeur', 'cosm\\u00e9tologie ']\n",
    "restauration_keywords = ['menueu','tissi','menuer','bouch','pecheur','agriculteurs','leveur','riz','riat','boulang','tisserie','caf','cafetaria','moulin','meulier','yaourt','zomonnon','traiteur','cusiniere','eleveur','caffeteria','elevage','boulangier','tisserande','cafeteria','cafetariat','restauration','menuier','restauration','porc' , 'restauratrice',  'nourriture', 'boisson', 'meunier', 'restaurateur', 'boucher','boulanger', 'restaurant', '\\u00e9leveur', 'buvette','menier', 'bar', 'p\\u00e2tissi\\u00e8re', 'bouchier',]\n",
    "tech_reparation_keywords = ['plasticien','lectrcien','canique','ectronicien','vulga','mecano','saisie','tchnicien','panneur','lectricien','canicien','tchnicien,','vilganisateur','vircanisateur','virganisateur','frigoriste','vulganisation','vulganisation','imprimerie','vicanisateur','vulcanisation','electricite','electro-technique','plomberie','eletricien','maintenance','maintenancier','depanneur','electronicien','informatique','tech_reparation','soudure','mecanicien', 'm\\u00e9canicien','technicien', '\\u00c9lectricien','m\\u00e9canicien','informaticien','electricien','vulcanisateur' ,'m\\u00e9canicien', 'vulganisateur', 'm\\u00e9canique', 'imprimeur', 'informaticien', 'd\\u00e9panneur','photocopie']\n",
    "artisan_keywords = ['serigraphe','souduire','fondeur','meunuisier','menuiserie','sculpteurs','scieur','meni','menisier','cle','ma','cordonnier','matelacier','costracier','tiserante','bijouteries','tapisser','matelassiers','tapisseri','ferrailleur','charpentier','art','machiniste','menuseri','carreleur','tisserante','soudeur', 'tourneur','menuisier', 'menusier','peintre', 'vitrier', 'couturi\\u00c8re', 'ma\\u00e7on',  'forgeron' , 'artisan', 'macon']\n",
    "transport_keywords = ['conduicteur','transport','chauffeur', 'taxi', 'moto', 'zem' ]\n",
    "telephonie_mobile_keywords = ['credits','téléphonie_mobile','money','momo', 'argent','gsm', 'mobile','moby']\n",
    "autres_keywords = ['banigourou','yara','oui','missessinto','lokokoukoume','adjisseur ','feuille medecinal ','pco','jardinier','nag','location','decoratrice','photographie','nan','porliche','teinturerie','promoteur de salle de jeu','gerant centre de jeux','retraite','pressing','animatrice','boutche','autres','lui meme', 'entrepreneur', 'photographe', 'propre compte', 'blanchisseur','therapetie','lavageur','transitaire']\n",
    "\n",
    "def segment_profession(profession):\n",
    "    profession = profession.lower()  # Convertir en minuscules pour une recherche insensible à la casse\n",
    "    if any(profession.find(keyword) != -1 for keyword in commerce_keywords):\n",
    "        return 'Commerce'\n",
    "    elif any(profession.find(keyword) != -1 for keyword in administration_keywords):\n",
    "        return 'Administration'\n",
    "    elif any(profession.find(keyword) != -1 for keyword in couture_keywords):\n",
    "        return 'Couture'\n",
    "    elif any(profession.find(keyword) != -1 for keyword in beauté_keywords):\n",
    "        return 'Beauté'\n",
    "    elif any(profession.find(keyword) != -1 for keyword in restauration_keywords): \n",
    "        return 'Restauration'\n",
    "    elif any(profession.find(keyword) != -1 for keyword in tech_reparation_keywords):\n",
    "        return 'Tech_reparation'\n",
    "    elif any(profession.find(keyword) != -1 for keyword in artisan_keywords):\n",
    "        return 'Artisan'\n",
    "    elif any(profession.find(keyword) != -1 for keyword in transport_keywords):\n",
    "        return 'Transport'\n",
    "    elif any(profession.find(keyword) != -1 for keyword in telephonie_mobile_keywords):\n",
    "        return 'Téléphonie_mobile'\n",
    "    elif any(profession.find(keyword) != -1 for keyword in autres_keywords):\n",
    "        return 'Autres'\n",
    "    else:\n",
    "        return profession\n",
    "        \n",
    "df.iloc[:, 7]= df.iloc[:,7].astype(str)        \n",
    "df.iloc[:, 7]= df.iloc[:,7].apply(segment_profession)"
   ]
  },
  {
   "cell_type": "raw",
   "id": "f152c396",
   "metadata": {},
   "source": [
    "Les lignes de code suivantes nous permettent de faire un résumé des occurences de nos catégories après la segmentation. "
   ]
  },
  {
   "cell_type": "code",
   "execution_count": null,
   "id": "840f0d72",
   "metadata": {},
   "outputs": [],
   "source": [
    "Results = df.iloc[:, 7].value_counts()\n",
    "for index, value in Results.items():\n",
    "    print(f'Élément : {index}, Nombre : {value}')"
   ]
  },
  {
   "cell_type": "raw",
   "id": "b3b1c479",
   "metadata": {},
   "source": [
    "Nous avons utilisé une boucle for pour parcourir la liste des variables catégorielles pour en tracer les diagrammes en barre"
   ]
  },
  {
   "cell_type": "code",
   "execution_count": null,
   "id": "0bb3b34d",
   "metadata": {},
   "outputs": [],
   "source": [
    "Variables_catégorielles = ['Agence de rattachement','Sexe ', 'Situation Matrimoniale', 'Occupation/profession', 'Type de compte', \"Secteur d'activité économique du crédit demandé\", \"Sous Secteur d'activité économique du crédit demandé\", 'Cautionnement signé']\n",
    "for feature in Variables_catégorielles:\n",
    "    plt.figure(figsize=(20,4))\n",
    "    sns.countplot(df[feature])\n",
    "    plt.xticks(rotation=90)\n",
    "    plt.xlabel(feature)\n",
    "    plt.ylabel('frequence')\n",
    "    plt.title(f'Diagramme en barre de  {feature}')\n",
    "    plt.show()"
   ]
  },
  {
   "cell_type": "markdown",
   "id": "14c806fe",
   "metadata": {},
   "source": [
    "# Suppression des variables dont on n'a pas besoin"
   ]
  },
  {
   "cell_type": "raw",
   "id": "d5bd4b9d",
   "metadata": {},
   "source": [
    "Nous avons supprimé de notre dataframe les variables qui ne nous serviront pas dans notre étude. Il s'agit de: \n",
    "- ID Client\n",
    "- Date de création\n",
    "- Nombre d'années passées à l'addresse"
   ]
  },
  {
   "cell_type": "code",
   "execution_count": null,
   "id": "1a7c2ab3",
   "metadata": {},
   "outputs": [],
   "source": [
    "df_en = df.copy()\n",
    "\n",
    "df_en = df_en.drop('ID Client',axis=1)\n",
    "df_en = df_en.drop('Date de création',axis=1)\n",
    "df_en = df_en.drop( \"Nombres d'années passées à cette addresse \" ,axis=1)\n",
    "df_en = df_en.drop('Nombre de crédits octroyés', axis = 1)"
   ]
  },
  {
   "cell_type": "code",
   "execution_count": null,
   "id": "4f7a1c06",
   "metadata": {
    "scrolled": false
   },
   "outputs": [],
   "source": [
    "df_en"
   ]
  },
  {
   "cell_type": "code",
   "execution_count": null,
   "id": "3278a0b7",
   "metadata": {},
   "outputs": [],
   "source": [
    "# Enregistrement de la dataframe modifiée\n",
    "df_en.to_excel('donnees_pretraitees.xlsx', index=False)"
   ]
  },
  {
   "cell_type": "markdown",
   "id": "617e6a06",
   "metadata": {},
   "source": [
    "# Matrice de confusion\n"
   ]
  },
  {
   "cell_type": "raw",
   "id": "09824903",
   "metadata": {},
   "source": [
    "Le code que vous avez partagé utilise la bibliothèque Seaborn pour créer une carte de chaleur des corrélations entre les variables numériques de notre DataFrame. La carte de chaleur affiche visuellement les corrélations entre les variables numériques de votre DataFrame. Les valeurs plus proches de 1 indiquent une corrélation positive forte, les valeurs plus proches de -1 indiquent une corrélation négative forte, et les valeurs proches de 0 indiquent une faible corrélation. Cette visualisation peut être utile pour identifier les relations entre les variables dans nos données et peut nous aider à prendre des décisions concernant les variables à inclure dans des analyses ultérieures ou des modèles prédictifs."
   ]
  },
  {
   "cell_type": "code",
   "execution_count": null,
   "id": "2c944ed2",
   "metadata": {},
   "outputs": [],
   "source": [
    "plt.figure(figsize=(18,18))\n",
    "sns.heatmap(df_en.corr(),annot=True,cmap='RdYlGn')\n",
    "\n",
    "plt.show()"
   ]
  },
  {
   "cell_type": "raw",
   "id": "ea769509",
   "metadata": {},
   "source": [
    "Cette première matrice de confusion nous permet déjà de savoir que les variables 'montant de crédit accordé', 'nombre de crédits remboursés', 'durée moyenne de remboursement ' et 'Emprunt en cours ' ne nous apportaient pas d'informations utililes. Nous allons donc les supprimer et reprendre la matrice de confusion."
   ]
  },
  {
   "cell_type": "code",
   "execution_count": null,
   "id": "600a9434",
   "metadata": {},
   "outputs": [],
   "source": [
    "#suppression des autres variables inutiles\n",
    "df_en = df_en.drop('Montant de crédit accordé', axis=1)\n",
    "df_en = df_en.drop('Durée moyenne de remboursement', axis = 1)\n",
    "df_en = df_en.drop('Nombre de crédit remboursés', axis = 1)\n",
    "df_en = df_en.drop(\"Emprunt en cours (dispose t il d'emprunts en cours)\", axis = 1)"
   ]
  },
  {
   "cell_type": "code",
   "execution_count": null,
   "id": "e290bb0f",
   "metadata": {},
   "outputs": [],
   "source": [
    "# Tracé de la nouvelle matrice de confusion\n",
    "\n",
    "plt.figure(figsize=(18,18))\n",
    "sns.heatmap(df_en.corr(),annot=True,cmap='RdYlGn')\n",
    "\n",
    "plt.show()"
   ]
  },
  {
   "cell_type": "raw",
   "id": "4a0ecafc",
   "metadata": {},
   "source": [
    "Nous venons ainsi de refaire notre matrice de confusion."
   ]
  },
  {
   "cell_type": "markdown",
   "id": "0fd4d05f",
   "metadata": {},
   "source": [
    "# Enregistrement du fichier tronqué"
   ]
  },
  {
   "cell_type": "code",
   "execution_count": null,
   "id": "e5259c7a",
   "metadata": {},
   "outputs": [],
   "source": [
    "df.fillna(df.mean(), inplace = True) #remplacer les nan par la moyenne\n",
    "\n",
    "df = df.drop('Montant de crédit accordé', axis=1)\n",
    "df = df.drop('Durée moyenne de remboursement', axis = 1)\n",
    "df = df.drop('Nombre de crédit remboursés', axis = 1)\n",
    "df = df.drop(\"Emprunt en cours (dispose t il d'emprunts en cours)\", axis = 1)\n",
    "df = df.drop('Type de compte', axis=1)\n",
    "df = df.drop('ID Client',axis=1)\n",
    "df = df.drop('Date de création',axis=1)\n",
    "df = df.drop( \"Nombres d'années passées à cette addresse \" ,axis=1)\n",
    "df = df.drop('Nombre de crédits octroyés', axis = 1)\n",
    "\n",
    "df.to_excel('données_tronquees.xlsx', index = False)"
   ]
  },
  {
   "cell_type": "code",
   "execution_count": null,
   "id": "e66d1fdc",
   "metadata": {},
   "outputs": [],
   "source": [
    "df"
   ]
  },
  {
   "cell_type": "markdown",
   "id": "066aa115",
   "metadata": {},
   "source": [
    "# Encodage des variables catégorielles"
   ]
  },
  {
   "cell_type": "raw",
   "id": "373e4be1",
   "metadata": {},
   "source": [
    "Afin de pouvoir les utiliser dans notre modèle, nous allons encoder les variables catégorielles"
   ]
  },
  {
   "cell_type": "code",
   "execution_count": null,
   "id": "58b458cd",
   "metadata": {},
   "outputs": [],
   "source": [
    "encoder = LabelEncoder()\n",
    "\n",
    "categorical = ['Agence de rattachement','Sexe ', 'Situation Matrimoniale', 'Occupation/profession', 'Type de compte', \"Secteur d'activité économique du crédit demandé\", \"Sous Secteur d'activité économique du crédit demandé\", 'Cautionnement signé']\n",
    "\n",
    "for feature in categorical:\n",
    "    df_en[feature] = encoder.fit_transform(df_en[feature])\n",
    "\n",
    "df_en.head()"
   ]
  },
  {
   "cell_type": "raw",
   "id": "69092f54",
   "metadata": {},
   "source": [
    "Nous allons ensuite utiliser le code dans la cellule suivante pour savoir comment chacune de nos variables ont été encodées"
   ]
  },
  {
   "cell_type": "code",
   "execution_count": null,
   "id": "ae1205d5",
   "metadata": {},
   "outputs": [],
   "source": [
    "#accéder aux catégories originelles des variables codées\n",
    "label_encoder = {}\n",
    "\n",
    "for col in Variables_catégorielles:\n",
    "    le = LabelEncoder()\n",
    "    df_en[col] = le.fit_transform(df_en[col])\n",
    "    label_encoder[col] = le \n",
    "    \n",
    "for col, le in label_encoder.items():\n",
    "    print(f\"Variable : {col}\")\n",
    "    print(f\"Catégories originales : {le.classes_}\")\n",
    "    print(f\"Valeurs codées : {le.transform(le.classes_)}\")\n",
    "    print(\"\\n\")\n",
    "    \n",
    "    "
   ]
  },
  {
   "cell_type": "markdown",
   "id": "74ba364d",
   "metadata": {},
   "source": [
    "# Normalisation des données"
   ]
  },
  {
   "cell_type": "raw",
   "id": "22e1f2b7",
   "metadata": {},
   "source": [
    "Les valeurs de nos données n'étant pas à la même échelle nous procédons à une normalisation de ces données en utilisant MinMaxScaler. La mise à l'échelle Min-Max est une technique couramment utilisée pour mettre toutes les valeurs d'une colonne numérique dans une plage spécifiée, généralement entre 0 et 1."
   ]
  },
  {
   "cell_type": "code",
   "execution_count": null,
   "id": "f3eacc9e",
   "metadata": {},
   "outputs": [],
   "source": [
    "from sklearn.preprocessing import MinMaxScaler\n",
    "\n",
    "scaler = MinMaxScaler()\n",
    "\n",
    "for i in [df_en.columns]:\n",
    "    df_en[i] = scaler.fit_transform(df_en[i])\n",
    "    \n",
    "\n",
    "df_en.describe(include = \"all\")"
   ]
  },
  {
   "cell_type": "raw",
   "id": "a0a60cd5",
   "metadata": {},
   "source": [
    "Nous allons utiliser ici la méthode fillna() pour remplir les valeurs manquantes (NaN) dans notre DataFrame df_en avec la moyenne de chaque colonne respective. "
   ]
  },
  {
   "cell_type": "code",
   "execution_count": null,
   "id": "280c8d12",
   "metadata": {},
   "outputs": [],
   "source": [
    "df_en.fillna(df_en.mean(), inplace = True) #remplacer les nan par la moyenne\n"
   ]
  },
  {
   "cell_type": "code",
   "execution_count": null,
   "id": "5b31f921",
   "metadata": {},
   "outputs": [],
   "source": [
    "df_en"
   ]
  },
  {
   "cell_type": "raw",
   "id": "a6c4b880",
   "metadata": {},
   "source": [
    "Maintenant que nous avons des variables toutes numériques, nous allons à nouveau tracer la matrice de confusion pour voir les différentes relations entre nos variables.\n",
    "Une première compilation nous a permis de voir que la variable 'Type de compte' ne nous apportait pas une information pertinente. Nous allons donc la supprimer avant de construire la matrice de confusion."
   ]
  },
  {
   "cell_type": "code",
   "execution_count": null,
   "id": "45850bcc",
   "metadata": {},
   "outputs": [],
   "source": [
    "df_en = df_en.drop('Type de compte', axis=1)\n",
    "plt.figure(figsize=(18,18))\n",
    "sns.heatmap(df_en.corr(),annot=True,cmap='RdYlGn')\n",
    "\n",
    "plt.show()"
   ]
  },
  {
   "cell_type": "code",
   "execution_count": null,
   "id": "41ba6a75",
   "metadata": {},
   "outputs": [],
   "source": [
    "# Enregistrement de la dataframe normalisée\n",
    "df_en.to_excel('donnees_final.xlsx', index=False)"
   ]
  },
  {
   "cell_type": "code",
   "execution_count": null,
   "id": "689e0090",
   "metadata": {},
   "outputs": [],
   "source": []
  },
  {
   "cell_type": "markdown",
   "id": "b4fec403",
   "metadata": {},
   "source": [
    "# Modélisation"
   ]
  },
  {
   "cell_type": "raw",
   "id": "757cd10c",
   "metadata": {},
   "source": [
    "Segmentation de données : K-means permet de regrouper des données similaires en clusters.Nous allons donc utiliser K-means pour segmenter vos clients en groupes ayant des comportements similaires dans bft group.\n",
    "\n",
    "Ici, comme nous avons un grand nombre de variables (24 dans notre cas), il devient difficile de représenter les données dans un graphique bidimensionnel, car chaque point de données aurait besoin d'une dimension différente pour chaque variable. Cependant, il existe des techniques de réduction de dimension qui vous permettent de visualiser les clusters dans un espace de dimension inférieur. L'une de ces techniques est l'Analyse en Composantes Principales (PCA). Voici comment vous pouvez procéder \n",
    "\n",
    "- Former un modèle K-means avec 3 clusters.\n",
    "- Utiliser PCA pour réduire la dimension à 2 composantes principales.\n",
    "- Ajouter les étiquettes de cluster en tant que colonne au DataFrame pour pouvoir les utiliser dans la visualisation.\n",
    "- Créer un graphique de dispersion (scatter plot) coloré par cluster en utilisant Seaborn.\n",
    "- Tracer les centroids des clusters en rouge pour les mettre en évidence."
   ]
  },
  {
   "cell_type": "code",
   "execution_count": null,
   "id": "77e4950e",
   "metadata": {},
   "outputs": [],
   "source": [
    "from sklearn.decomposition import PCA   #importation de la bibliothèque nécessaire à l'implémentation de l'ACP\n",
    "from sklearn.cluster import KMeans    #importation de la bibliothèque nécessaire à l'implémentation du KMeans"
   ]
  },
  {
   "cell_type": "code",
   "execution_count": null,
   "id": "c90769aa",
   "metadata": {},
   "outputs": [],
   "source": [
    "# Créons et ajustons le modèle K-means avec 3 clusters\n",
    "kmeans = KMeans(n_clusters = 3, init = 'k-means++', max_iter = 300, random_state = 0)\n",
    "kmeans.fit(df_en)"
   ]
  },
  {
   "cell_type": "code",
   "execution_count": null,
   "id": "bdea34f9",
   "metadata": {},
   "outputs": [],
   "source": [
    "# coordonnées des centroides des clusters\n",
    "centroids = kmeans.cluster_centers_"
   ]
  },
  {
   "cell_type": "code",
   "execution_count": null,
   "id": "4bc1b06c",
   "metadata": {},
   "outputs": [],
   "source": [
    "#application pca pour réduire la dimension à 2 composantes principales\n",
    "pca = PCA(n_components = 2)\n",
    "principal_components = pca.fit_transform(df_en)"
   ]
  },
  {
   "cell_type": "code",
   "execution_count": null,
   "id": "276af103",
   "metadata": {},
   "outputs": [],
   "source": [
    "#ajouter les étiquettes de cluster en tant que colonne au dataframe\n",
    "df_en['cluster_label'] = kmeans.labels_"
   ]
  },
  {
   "cell_type": "code",
   "execution_count": null,
   "id": "720ce210",
   "metadata": {},
   "outputs": [],
   "source": [
    "#graphique de dispersion\n",
    "#utilisation de seaborn pour créer un graphique de dispersion\n",
    "sns.scatterplot(x=principal_components[:, 0], y=principal_components[:, 1], hue=df_en['cluster_label'], palette = 'viridis')\n",
    "\n",
    "#tracé des centroides\n",
    "plt.scatter(centroids[:, 0], centroids[:, 1], c='red', marker = 'x', s=100)\n",
    "\n",
    "#legendes et titres\n",
    "plt.legend(title = 'Cluster')\n",
    "plt.title('Visualisation des 3 clusters avec pca')\n",
    "plt.show()"
   ]
  },
  {
   "cell_type": "markdown",
   "id": "380a8ac5",
   "metadata": {},
   "source": [
    "# Recherche du nombre optimal de clusters\n"
   ]
  },
  {
   "cell_type": "code",
   "execution_count": null,
   "id": "701b197f",
   "metadata": {},
   "outputs": [],
   "source": [
    "#installation de yellow_brick\n",
    "!pip install -U yellowbrick"
   ]
  },
  {
   "cell_type": "markdown",
   "id": "787c0d88",
   "metadata": {},
   "source": [
    "# Méthode du coude"
   ]
  },
  {
   "cell_type": "raw",
   "id": "023a7236",
   "metadata": {},
   "source": [
    "La méthode du coude est une technique couramment utilisée pour déterminer le nombre optimal de clusters dans un algorithme de clustering tel que K-means. Cette méthode est basée sur l'idée que l'ajout de clusters supplémentaires améliore la performance du modèle jusqu'à un certain point, après quoi les améliorations deviennent marginales. Ce point est souvent appelé le \"coude\" dans le graphique des coûts (inertie) en fonction du nombre de clusters.\n",
    "\n",
    "Voici comment la méthode du coude fonctionne :\n",
    "\n",
    "1. Vous exécutez l'algorithme de K-means pour différents nombres de clusters (par exemple, de 1 à N, où N est le nombre maximal que vous envisagez).Dans notre cas, k est la plage de nombres de clusters que nous souhaitons explorer (dans cet exemple, de 2 à 12). \n",
    "\n",
    "2. Pour chaque nombre de clusters, vous calculez la valeur de l'inertie (ou la somme des carrés des distances des points au centroïde) du modèle K-means résultant. L'inertie mesure la dispersion des points au sein de chaque cluster. Plus l'inertie est faible, plus les points sont proches des centroids de leurs clusters respectifs.\n",
    "\n",
    "3. Vous tracez un graphique de l'inertie en fonction du nombre de clusters.\n",
    "\n",
    "4. Vous recherchez le point où l'inertie commence à diminuer de manière significative (l'ajout de clusters a un effet positif sur la réduction de l'inertie), puis où cette réduction ralentit, formant ainsi un coude dans le graphique.\n",
    "\n",
    "5. Le nombre de clusters à ce \"coude\" est généralement considéré comme le nombre optimal de clusters pour votre ensemble de données.\n"
   ]
  },
  {
   "cell_type": "code",
   "execution_count": null,
   "id": "44921d1f",
   "metadata": {},
   "outputs": [],
   "source": [
    "#methode du coude\n",
    "from yellowbrick.cluster import KElbowVisualizer\n",
    "\n",
    "Kmoy = KMeans(random_state = 0)\n",
    "\n",
    "visualizer = KElbowVisualizer(Kmoy, k = (1, 12))\n",
    "visualizer.fit(principal_components)\n",
    "visualizer.show()\n"
   ]
  },
  {
   "cell_type": "raw",
   "id": "07f63f09",
   "metadata": {},
   "source": [
    "L'algorithme ici nous suggère k=3 clusters optimaux"
   ]
  },
  {
   "cell_type": "markdown",
   "id": "bba2a652",
   "metadata": {},
   "source": [
    "# Analyse des résultats de la segmentation\n"
   ]
  },
  {
   "cell_type": "raw",
   "id": "b19efe84",
   "metadata": {},
   "source": [
    "Nous allons ajouter au dataframe tronqué une colonne contenant les étiquettes des clusters afin de pouvoir interpréter les résultats de notre cluster."
   ]
  },
  {
   "cell_type": "code",
   "execution_count": null,
   "id": "73b32e58",
   "metadata": {},
   "outputs": [],
   "source": [
    "#ajouter les étiquettes de cluster en tant que colonne au dataframe tronqué\n",
    "df['cluster_label'] = kmeans.labels_\n",
    "df['cluster_label'].unique()"
   ]
  },
  {
   "cell_type": "raw",
   "id": "6d3dc297",
   "metadata": {},
   "source": [
    "Le résultat précédent nous confirme que nous avons bel et bien 3 clusters "
   ]
  },
  {
   "cell_type": "code",
   "execution_count": null,
   "id": "122d40bc",
   "metadata": {},
   "outputs": [],
   "source": [
    "# centroides\n",
    "features = ['Nombres de mois de cotisation', 'Nombres de plans cotisés', 'Nombre de plans cotisés à terme', \"Montant de l'épargne cotisé\", 'Nombre de transactions enregistrées', 'Nombre de crédits demandés', 'Age', 'Montant de crédits demandés', 'Cotisation au RPC', 'Revenus du Garant']\n",
    "df.groupby('cluster_label')[features].mean()"
   ]
  },
  {
   "cell_type": "raw",
   "id": "c6c9760d",
   "metadata": {},
   "source": [
    "Ce tableau nous fais un résumé des caractéristiques du centroide de chaque groupe. Le centroide étant un représentant de chaque groupe, ce tableau permet de connaître les caractéristiques des membres de chaque groupe."
   ]
  },
  {
   "cell_type": "raw",
   "id": "d348cb8e",
   "metadata": {},
   "source": [
    "On peut aussi intégrer les variables catégorielles dans notre analyse des comportements du centroide. Prenons par exemple la profession."
   ]
  },
  {
   "cell_type": "code",
   "execution_count": null,
   "id": "efd8b2e7",
   "metadata": {},
   "outputs": [],
   "source": [
    "groupes = df.groupby(['cluster_label', 'Occupation/profession'])[features].mean()\n",
    "groupes"
   ]
  },
  {
   "cell_type": "raw",
   "id": "657f6ba4",
   "metadata": {},
   "source": [
    "Ce tableau regroupe les caractéristiques du représentant de chaque cluster en tenant compte de sa profession."
   ]
  },
  {
   "cell_type": "code",
   "execution_count": null,
   "id": "efd458f3",
   "metadata": {},
   "outputs": [],
   "source": []
  },
  {
   "cell_type": "code",
   "execution_count": null,
   "id": "83d35c9c",
   "metadata": {},
   "outputs": [],
   "source": []
  }
 ],
 "metadata": {
  "kernelspec": {
   "display_name": "Python 3 (ipykernel)",
   "language": "python",
   "name": "python3"
  },
  "language_info": {
   "codemirror_mode": {
    "name": "ipython",
    "version": 3
   },
   "file_extension": ".py",
   "mimetype": "text/x-python",
   "name": "python",
   "nbconvert_exporter": "python",
   "pygments_lexer": "ipython3",
   "version": "3.9.13"
  }
 },
 "nbformat": 4,
 "nbformat_minor": 5
}
